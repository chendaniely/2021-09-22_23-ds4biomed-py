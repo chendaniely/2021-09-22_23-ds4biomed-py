{
 "cells": [
  {
   "cell_type": "markdown",
   "id": "373a19d4-c24b-4683-bf43-a97d8709785a",
   "metadata": {},
   "source": [
    "1. Read in all the patient data from the spreadsheets chapter (chapter 2) found in data > spreadsheets > all.csv\n",
    "2. select the first_name, last_name, day, time, and temp_f columns.\n",
    "3. filter the rows such that the person’s name is “Aniya Warner”\n",
    "4. Save the filtered dataset into the output folder named aniya_warner_py.csv.\n",
    "\n"
   ]
  },
  {
   "cell_type": "code",
   "execution_count": 1,
   "id": "28d77ba0-94ce-49ee-8521-acc438aa2d2d",
   "metadata": {},
   "outputs": [
    {
     "data": {
      "text/plain": [
       "'C:\\\\Users\\\\Danie\\\\Desktop\\\\ds4biomed-learner'"
      ]
     },
     "execution_count": 1,
     "metadata": {},
     "output_type": "execute_result"
    }
   ],
   "source": [
    "pwd"
   ]
  },
  {
   "cell_type": "code",
   "execution_count": 2,
   "id": "d7eadc2b-109d-4b93-9b41-7d02150bea48",
   "metadata": {},
   "outputs": [],
   "source": [
    "# cd C:\\\\Users\\\\Danie\\\\Desktop\\\\ds4biomed-learner"
   ]
  },
  {
   "cell_type": "code",
   "execution_count": 3,
   "id": "254f1363-be3d-45ba-9d1b-d039a682e5ba",
   "metadata": {},
   "outputs": [],
   "source": [
    "import pandas as pd"
   ]
  },
  {
   "cell_type": "code",
   "execution_count": 9,
   "id": "9800cb84-a346-4b76-8adc-a7e3c5397221",
   "metadata": {},
   "outputs": [],
   "source": [
    "all_pts = pd.read_csv(\"data/spreadsheets/all.csv\")"
   ]
  },
  {
   "cell_type": "code",
   "execution_count": 14,
   "id": "f1ee5bc7-2f05-4070-819d-e985a754e479",
   "metadata": {},
   "outputs": [],
   "source": [
    "filtered = all_pts.loc[all_pts[\"first_name\"] == \"Aniya\", [\"first_name\", \"last_name\", \"day\", \"time\", \"temp_f\"]]"
   ]
  },
  {
   "cell_type": "code",
   "execution_count": 15,
   "id": "bcad1cea-e148-4f3d-971e-d26fc09ba4f9",
   "metadata": {},
   "outputs": [],
   "source": [
    "filtered.to_csv(\"output/aniya_warner_py.csv\")"
   ]
  },
  {
   "cell_type": "code",
   "execution_count": null,
   "id": "3c1e73c4-4c1f-4c3a-93bb-69fdd20eac41",
   "metadata": {},
   "outputs": [],
   "source": []
  },
  {
   "cell_type": "code",
   "execution_count": 16,
   "id": "bdb2cbf8-8f2a-4ed0-8e39-447a8367ea98",
   "metadata": {},
   "outputs": [],
   "source": [
    "import pandas as pd"
   ]
  },
  {
   "cell_type": "code",
   "execution_count": 17,
   "id": "f10afa91-f1ef-4efa-b0b8-54c46f3bf363",
   "metadata": {},
   "outputs": [],
   "source": [
    "tumor_subset = pd.read_csv(\"data/tumor_filtered_py.csv\")"
   ]
  },
  {
   "cell_type": "code",
   "execution_count": 21,
   "id": "0dd8b5a8-2f65-4dde-afa6-5d22c1f7e995",
   "metadata": {},
   "outputs": [],
   "source": [
    "tumor_size_0 = tumor_subset.loc[tumor_subset[\"Day\"] == 0, \"Size\"]"
   ]
  },
  {
   "cell_type": "code",
   "execution_count": 22,
   "id": "e3984148-eaec-4002-b61d-f081e109c74f",
   "metadata": {},
   "outputs": [
    {
     "data": {
      "text/plain": [
       "pandas.core.series.Series"
      ]
     },
     "execution_count": 22,
     "metadata": {},
     "output_type": "execute_result"
    }
   ],
   "source": [
    "type(tumor_size_0)"
   ]
  },
  {
   "cell_type": "code",
   "execution_count": 23,
   "id": "5fdda742-8ba2-46aa-bdf8-174f37c6666a",
   "metadata": {},
   "outputs": [
    {
     "data": {
      "text/plain": [
       "51.5918918918919"
      ]
     },
     "execution_count": 23,
     "metadata": {},
     "output_type": "execute_result"
    }
   ],
   "source": [
    "tumor_size_0.mean()"
   ]
  },
  {
   "cell_type": "code",
   "execution_count": 24,
   "id": "acf9d9c8-5feb-4724-883c-acd47003dd4b",
   "metadata": {},
   "outputs": [
    {
     "data": {
      "text/plain": [
       "51.5918918918919"
      ]
     },
     "execution_count": 24,
     "metadata": {},
     "output_type": "execute_result"
    }
   ],
   "source": [
    "(tumor_subset\n",
    " .loc[tumor_subset[\"Day\"] == 0, \"Size\"]\n",
    " .mean()\n",
    ")"
   ]
  },
  {
   "cell_type": "code",
   "execution_count": 26,
   "id": "a52d7147-d262-43d2-9dcf-f453c2024574",
   "metadata": {},
   "outputs": [],
   "source": [
    "tumor_subset_13 = tumor_subset.loc[tumor_subset[\"Day\"] == 13]"
   ]
  },
  {
   "cell_type": "code",
   "execution_count": 27,
   "id": "fb00d256-4568-4510-9fc8-685f99e795da",
   "metadata": {},
   "outputs": [
    {
     "data": {
      "text/plain": [
       "1597.4"
      ]
     },
     "execution_count": 27,
     "metadata": {},
     "output_type": "execute_result"
    }
   ],
   "source": [
    "(tumor_subset_13\n",
    " .loc[tumor_subset[\"Group\"] == 1, \"Size\"]\n",
    " .mean()\n",
    ")"
   ]
  },
  {
   "cell_type": "code",
   "execution_count": 28,
   "id": "83375152-6bc4-4c51-86a8-301f5e9c7222",
   "metadata": {},
   "outputs": [
    {
     "data": {
      "text/plain": [
       "453.475"
      ]
     },
     "execution_count": 28,
     "metadata": {},
     "output_type": "execute_result"
    }
   ],
   "source": [
    "(tumor_subset_13\n",
    " .loc[tumor_subset[\"Group\"] == 2, \"Size\"]\n",
    " .mean()\n",
    ")"
   ]
  },
  {
   "cell_type": "code",
   "execution_count": 29,
   "id": "e8822cd7-7e28-4748-abd8-85f5b40aad51",
   "metadata": {},
   "outputs": [
    {
     "data": {
      "text/plain": [
       "933.6600000000001"
      ]
     },
     "execution_count": 29,
     "metadata": {},
     "output_type": "execute_result"
    }
   ],
   "source": [
    "(tumor_subset_13\n",
    " .loc[tumor_subset[\"Group\"] == 3, \"Size\"]\n",
    " .mean()\n",
    ")"
   ]
  },
  {
   "cell_type": "code",
   "execution_count": 30,
   "id": "239d1c55-3ae3-4557-ae6a-e9f27b45c6e0",
   "metadata": {},
   "outputs": [
    {
     "data": {
      "text/plain": [
       "767.575"
      ]
     },
     "execution_count": 30,
     "metadata": {},
     "output_type": "execute_result"
    }
   ],
   "source": [
    "(tumor_subset_13\n",
    " .loc[tumor_subset[\"Group\"] == 4, \"Size\"]\n",
    " .mean()\n",
    ")"
   ]
  },
  {
   "cell_type": "code",
   "execution_count": 32,
   "id": "64d0fde6-00b3-4ba6-b2da-3b2b5c9c03b7",
   "metadata": {},
   "outputs": [
    {
     "data": {
      "text/plain": [
       "array([1, 2, 3, 4], dtype=int64)"
      ]
     },
     "execution_count": 32,
     "metadata": {},
     "output_type": "execute_result"
    }
   ],
   "source": [
    "tumor_subset_13[\"Group\"].unique()"
   ]
  },
  {
   "cell_type": "code",
   "execution_count": 35,
   "id": "2f93a361-7be5-4286-8463-4d4c207c8b40",
   "metadata": {},
   "outputs": [
    {
     "data": {
      "text/plain": [
       "Group\n",
       "1    1597.400\n",
       "2     453.475\n",
       "3     933.660\n",
       "4     767.575\n",
       "Name: Size, dtype: float64"
      ]
     },
     "execution_count": 35,
     "metadata": {},
     "output_type": "execute_result"
    }
   ],
   "source": [
    "tumor_subset_13.groupby(\"Group\")[\"Size\"].mean()"
   ]
  },
  {
   "cell_type": "code",
   "execution_count": 36,
   "id": "6f187328-4627-407d-90dc-c126f556821b",
   "metadata": {},
   "outputs": [],
   "source": [
    "import numpy as np"
   ]
  },
  {
   "cell_type": "code",
   "execution_count": 38,
   "id": "efa288ed-57ea-4cbe-a31f-214b4e77c32d",
   "metadata": {},
   "outputs": [
    {
     "data": {
      "text/html": [
       "<div>\n",
       "<style scoped>\n",
       "    .dataframe tbody tr th:only-of-type {\n",
       "        vertical-align: middle;\n",
       "    }\n",
       "\n",
       "    .dataframe tbody tr th {\n",
       "        vertical-align: top;\n",
       "    }\n",
       "\n",
       "    .dataframe thead th {\n",
       "        text-align: right;\n",
       "    }\n",
       "</style>\n",
       "<table border=\"1\" class=\"dataframe\">\n",
       "  <thead>\n",
       "    <tr style=\"text-align: right;\">\n",
       "      <th></th>\n",
       "      <th>avg_size</th>\n",
       "    </tr>\n",
       "    <tr>\n",
       "      <th>Group</th>\n",
       "      <th></th>\n",
       "    </tr>\n",
       "  </thead>\n",
       "  <tbody>\n",
       "    <tr>\n",
       "      <th>1</th>\n",
       "      <td>1597.400</td>\n",
       "    </tr>\n",
       "    <tr>\n",
       "      <th>2</th>\n",
       "      <td>453.475</td>\n",
       "    </tr>\n",
       "    <tr>\n",
       "      <th>3</th>\n",
       "      <td>933.660</td>\n",
       "    </tr>\n",
       "    <tr>\n",
       "      <th>4</th>\n",
       "      <td>767.575</td>\n",
       "    </tr>\n",
       "  </tbody>\n",
       "</table>\n",
       "</div>"
      ],
      "text/plain": [
       "       avg_size\n",
       "Group          \n",
       "1      1597.400\n",
       "2       453.475\n",
       "3       933.660\n",
       "4       767.575"
      ]
     },
     "execution_count": 38,
     "metadata": {},
     "output_type": "execute_result"
    }
   ],
   "source": [
    "tumor_subset_13.groupby(\"Group\")[\"Size\"].agg(avg_size = np.mean)"
   ]
  },
  {
   "cell_type": "code",
   "execution_count": 40,
   "id": "b3114cd5-eac2-4fe0-9b02-4e48ba1d3b56",
   "metadata": {},
   "outputs": [
    {
     "data": {
      "text/html": [
       "<div>\n",
       "<style scoped>\n",
       "    .dataframe tbody tr th:only-of-type {\n",
       "        vertical-align: middle;\n",
       "    }\n",
       "\n",
       "    .dataframe tbody tr th {\n",
       "        vertical-align: top;\n",
       "    }\n",
       "\n",
       "    .dataframe thead th {\n",
       "        text-align: right;\n",
       "    }\n",
       "</style>\n",
       "<table border=\"1\" class=\"dataframe\">\n",
       "  <thead>\n",
       "    <tr style=\"text-align: right;\">\n",
       "      <th></th>\n",
       "      <th>avg_size</th>\n",
       "    </tr>\n",
       "    <tr>\n",
       "      <th>Group</th>\n",
       "      <th></th>\n",
       "    </tr>\n",
       "  </thead>\n",
       "  <tbody>\n",
       "    <tr>\n",
       "      <th>1</th>\n",
       "      <td>1597.400</td>\n",
       "    </tr>\n",
       "    <tr>\n",
       "      <th>2</th>\n",
       "      <td>453.475</td>\n",
       "    </tr>\n",
       "    <tr>\n",
       "      <th>3</th>\n",
       "      <td>933.660</td>\n",
       "    </tr>\n",
       "    <tr>\n",
       "      <th>4</th>\n",
       "      <td>767.575</td>\n",
       "    </tr>\n",
       "  </tbody>\n",
       "</table>\n",
       "</div>"
      ],
      "text/plain": [
       "       avg_size\n",
       "Group          \n",
       "1      1597.400\n",
       "2       453.475\n",
       "3       933.660\n",
       "4       767.575"
      ]
     },
     "execution_count": 40,
     "metadata": {},
     "output_type": "execute_result"
    }
   ],
   "source": [
    "tumor_subset_13.groupby(\"Group\").agg(avg_size = (\"Size\", np.mean))"
   ]
  },
  {
   "cell_type": "code",
   "execution_count": 44,
   "id": "a995c4b1-a0a3-4a63-beb9-e44616df89c1",
   "metadata": {},
   "outputs": [
    {
     "data": {
      "text/html": [
       "<div>\n",
       "<style scoped>\n",
       "    .dataframe tbody tr th:only-of-type {\n",
       "        vertical-align: middle;\n",
       "    }\n",
       "\n",
       "    .dataframe tbody tr th {\n",
       "        vertical-align: top;\n",
       "    }\n",
       "\n",
       "    .dataframe thead th {\n",
       "        text-align: right;\n",
       "    }\n",
       "</style>\n",
       "<table border=\"1\" class=\"dataframe\">\n",
       "  <thead>\n",
       "    <tr style=\"text-align: right;\">\n",
       "      <th></th>\n",
       "      <th>Group</th>\n",
       "      <th>Day</th>\n",
       "      <th>avg_size</th>\n",
       "    </tr>\n",
       "  </thead>\n",
       "  <tbody>\n",
       "    <tr>\n",
       "      <th>0</th>\n",
       "      <td>1</td>\n",
       "      <td>0</td>\n",
       "      <td>55.575000</td>\n",
       "    </tr>\n",
       "    <tr>\n",
       "      <th>1</th>\n",
       "      <td>1</td>\n",
       "      <td>13</td>\n",
       "      <td>1597.400000</td>\n",
       "    </tr>\n",
       "    <tr>\n",
       "      <th>2</th>\n",
       "      <td>2</td>\n",
       "      <td>0</td>\n",
       "      <td>51.810000</td>\n",
       "    </tr>\n",
       "    <tr>\n",
       "      <th>3</th>\n",
       "      <td>2</td>\n",
       "      <td>13</td>\n",
       "      <td>453.475000</td>\n",
       "    </tr>\n",
       "    <tr>\n",
       "      <th>4</th>\n",
       "      <td>3</td>\n",
       "      <td>0</td>\n",
       "      <td>48.620000</td>\n",
       "    </tr>\n",
       "    <tr>\n",
       "      <th>5</th>\n",
       "      <td>3</td>\n",
       "      <td>13</td>\n",
       "      <td>933.660000</td>\n",
       "    </tr>\n",
       "    <tr>\n",
       "      <th>6</th>\n",
       "      <td>4</td>\n",
       "      <td>0</td>\n",
       "      <td>51.111111</td>\n",
       "    </tr>\n",
       "    <tr>\n",
       "      <th>7</th>\n",
       "      <td>4</td>\n",
       "      <td>13</td>\n",
       "      <td>767.575000</td>\n",
       "    </tr>\n",
       "  </tbody>\n",
       "</table>\n",
       "</div>"
      ],
      "text/plain": [
       "   Group  Day     avg_size\n",
       "0      1    0    55.575000\n",
       "1      1   13  1597.400000\n",
       "2      2    0    51.810000\n",
       "3      2   13   453.475000\n",
       "4      3    0    48.620000\n",
       "5      3   13   933.660000\n",
       "6      4    0    51.111111\n",
       "7      4   13   767.575000"
      ]
     },
     "execution_count": 44,
     "metadata": {},
     "output_type": "execute_result"
    }
   ],
   "source": [
    "(tumor_subset\n",
    " .groupby([\"Group\", \"Day\"])\n",
    " .agg(avg_size = (\"Size\", np.mean))\n",
    " .reset_index()\n",
    ")"
   ]
  },
  {
   "cell_type": "code",
   "execution_count": 50,
   "id": "ef6fbbca-9b56-4515-a41f-9c4dad5f41aa",
   "metadata": {},
   "outputs": [
    {
     "data": {
      "text/html": [
       "<div>\n",
       "<style scoped>\n",
       "    .dataframe tbody tr th:only-of-type {\n",
       "        vertical-align: middle;\n",
       "    }\n",
       "\n",
       "    .dataframe tbody tr th {\n",
       "        vertical-align: top;\n",
       "    }\n",
       "\n",
       "    .dataframe thead th {\n",
       "        text-align: right;\n",
       "    }\n",
       "</style>\n",
       "<table border=\"1\" class=\"dataframe\">\n",
       "  <thead>\n",
       "    <tr style=\"text-align: right;\">\n",
       "      <th></th>\n",
       "      <th>Group</th>\n",
       "      <th>Day</th>\n",
       "      <th>avg_size</th>\n",
       "      <th>std_size</th>\n",
       "      <th>q33_size</th>\n",
       "    </tr>\n",
       "  </thead>\n",
       "  <tbody>\n",
       "    <tr>\n",
       "      <th>0</th>\n",
       "      <td>1</td>\n",
       "      <td>0</td>\n",
       "      <td>55.575000</td>\n",
       "      <td>12.850653</td>\n",
       "      <td>47.606</td>\n",
       "    </tr>\n",
       "    <tr>\n",
       "      <th>1</th>\n",
       "      <td>1</td>\n",
       "      <td>13</td>\n",
       "      <td>1597.400000</td>\n",
       "      <td>763.668099</td>\n",
       "      <td>1244.448</td>\n",
       "    </tr>\n",
       "    <tr>\n",
       "      <th>2</th>\n",
       "      <td>2</td>\n",
       "      <td>0</td>\n",
       "      <td>51.810000</td>\n",
       "      <td>10.604763</td>\n",
       "      <td>46.701</td>\n",
       "    </tr>\n",
       "    <tr>\n",
       "      <th>3</th>\n",
       "      <td>2</td>\n",
       "      <td>13</td>\n",
       "      <td>453.475000</td>\n",
       "      <td>286.858971</td>\n",
       "      <td>451.569</td>\n",
       "    </tr>\n",
       "    <tr>\n",
       "      <th>4</th>\n",
       "      <td>3</td>\n",
       "      <td>0</td>\n",
       "      <td>48.620000</td>\n",
       "      <td>7.304002</td>\n",
       "      <td>43.955</td>\n",
       "    </tr>\n",
       "    <tr>\n",
       "      <th>5</th>\n",
       "      <td>3</td>\n",
       "      <td>13</td>\n",
       "      <td>933.660000</td>\n",
       "      <td>509.875839</td>\n",
       "      <td>588.777</td>\n",
       "    </tr>\n",
       "    <tr>\n",
       "      <th>6</th>\n",
       "      <td>4</td>\n",
       "      <td>0</td>\n",
       "      <td>51.111111</td>\n",
       "      <td>8.635312</td>\n",
       "      <td>47.016</td>\n",
       "    </tr>\n",
       "    <tr>\n",
       "      <th>7</th>\n",
       "      <td>4</td>\n",
       "      <td>13</td>\n",
       "      <td>767.575000</td>\n",
       "      <td>314.075865</td>\n",
       "      <td>623.130</td>\n",
       "    </tr>\n",
       "  </tbody>\n",
       "</table>\n",
       "</div>"
      ],
      "text/plain": [
       "   Group  Day     avg_size    std_size  q33_size\n",
       "0      1    0    55.575000   12.850653    47.606\n",
       "1      1   13  1597.400000  763.668099  1244.448\n",
       "2      2    0    51.810000   10.604763    46.701\n",
       "3      2   13   453.475000  286.858971   451.569\n",
       "4      3    0    48.620000    7.304002    43.955\n",
       "5      3   13   933.660000  509.875839   588.777\n",
       "6      4    0    51.111111    8.635312    47.016\n",
       "7      4   13   767.575000  314.075865   623.130"
      ]
     },
     "execution_count": 50,
     "metadata": {},
     "output_type": "execute_result"
    }
   ],
   "source": [
    "(tumor_subset\n",
    " .groupby([\"Group\", \"Day\"])\n",
    " .agg(avg_size = (\"Size\", np.mean),\n",
    "      std_size = (\"Size\", np.std),\n",
    "      q33_size = (\"Size\", lambda x: np.quantile(x, q=0.33))\n",
    "     )\n",
    " .reset_index()\n",
    ")"
   ]
  },
  {
   "cell_type": "code",
   "execution_count": 51,
   "id": "88dcd8ff-47a7-4d3b-b031-1ad1596b19ea",
   "metadata": {},
   "outputs": [
    {
     "data": {
      "text/html": [
       "<div>\n",
       "<style scoped>\n",
       "    .dataframe tbody tr th:only-of-type {\n",
       "        vertical-align: middle;\n",
       "    }\n",
       "\n",
       "    .dataframe tbody tr th {\n",
       "        vertical-align: top;\n",
       "    }\n",
       "\n",
       "    .dataframe thead th {\n",
       "        text-align: right;\n",
       "    }\n",
       "</style>\n",
       "<table border=\"1\" class=\"dataframe\">\n",
       "  <thead>\n",
       "    <tr style=\"text-align: right;\">\n",
       "      <th></th>\n",
       "      <th>Unnamed: 0</th>\n",
       "      <th>Group</th>\n",
       "      <th>ID</th>\n",
       "      <th>Day</th>\n",
       "      <th>Size</th>\n",
       "    </tr>\n",
       "  </thead>\n",
       "  <tbody>\n",
       "    <tr>\n",
       "      <th>count</th>\n",
       "      <td>60.000000</td>\n",
       "      <td>60.000000</td>\n",
       "      <td>60.000000</td>\n",
       "      <td>60.000000</td>\n",
       "      <td>60.000000</td>\n",
       "    </tr>\n",
       "    <tr>\n",
       "      <th>mean</th>\n",
       "      <td>274.150000</td>\n",
       "      <td>2.550000</td>\n",
       "      <td>260.250000</td>\n",
       "      <td>4.983333</td>\n",
       "      <td>401.945000</td>\n",
       "    </tr>\n",
       "    <tr>\n",
       "      <th>std</th>\n",
       "      <td>166.392819</td>\n",
       "      <td>1.064449</td>\n",
       "      <td>106.700059</td>\n",
       "      <td>6.373918</td>\n",
       "      <td>586.263062</td>\n",
       "    </tr>\n",
       "    <tr>\n",
       "      <th>min</th>\n",
       "      <td>0.000000</td>\n",
       "      <td>1.000000</td>\n",
       "      <td>101.000000</td>\n",
       "      <td>0.000000</td>\n",
       "      <td>39.500000</td>\n",
       "    </tr>\n",
       "    <tr>\n",
       "      <th>25%</th>\n",
       "      <td>113.500000</td>\n",
       "      <td>2.000000</td>\n",
       "      <td>201.750000</td>\n",
       "      <td>0.000000</td>\n",
       "      <td>46.800000</td>\n",
       "    </tr>\n",
       "    <tr>\n",
       "      <th>50%</th>\n",
       "      <td>282.500000</td>\n",
       "      <td>3.000000</td>\n",
       "      <td>302.000000</td>\n",
       "      <td>0.000000</td>\n",
       "      <td>59.900000</td>\n",
       "    </tr>\n",
       "    <tr>\n",
       "      <th>75%</th>\n",
       "      <td>401.000000</td>\n",
       "      <td>3.000000</td>\n",
       "      <td>309.250000</td>\n",
       "      <td>13.000000</td>\n",
       "      <td>596.825000</td>\n",
       "    </tr>\n",
       "    <tr>\n",
       "      <th>max</th>\n",
       "      <td>566.000000</td>\n",
       "      <td>4.000000</td>\n",
       "      <td>409.000000</td>\n",
       "      <td>13.000000</td>\n",
       "      <td>2342.600000</td>\n",
       "    </tr>\n",
       "  </tbody>\n",
       "</table>\n",
       "</div>"
      ],
      "text/plain": [
       "       Unnamed: 0      Group          ID        Day         Size\n",
       "count   60.000000  60.000000   60.000000  60.000000    60.000000\n",
       "mean   274.150000   2.550000  260.250000   4.983333   401.945000\n",
       "std    166.392819   1.064449  106.700059   6.373918   586.263062\n",
       "min      0.000000   1.000000  101.000000   0.000000    39.500000\n",
       "25%    113.500000   2.000000  201.750000   0.000000    46.800000\n",
       "50%    282.500000   3.000000  302.000000   0.000000    59.900000\n",
       "75%    401.000000   3.000000  309.250000  13.000000   596.825000\n",
       "max    566.000000   4.000000  409.000000  13.000000  2342.600000"
      ]
     },
     "execution_count": 51,
     "metadata": {},
     "output_type": "execute_result"
    }
   ],
   "source": [
    "tumor_subset.describe()"
   ]
  },
  {
   "cell_type": "code",
   "execution_count": null,
   "id": "c944146a-9e83-43b5-88b4-f98e53b237c4",
   "metadata": {},
   "outputs": [],
   "source": []
  }
 ],
 "metadata": {
  "kernelspec": {
   "display_name": "Python 3",
   "language": "python",
   "name": "python3"
  },
  "language_info": {
   "codemirror_mode": {
    "name": "ipython",
    "version": 3
   },
   "file_extension": ".py",
   "mimetype": "text/x-python",
   "name": "python",
   "nbconvert_exporter": "python",
   "pygments_lexer": "ipython3",
   "version": "3.8.8"
  }
 },
 "nbformat": 4,
 "nbformat_minor": 5
}
