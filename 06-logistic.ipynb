{
 "cells": [
  {
   "cell_type": "code",
   "execution_count": 1,
   "id": "7532cd9e-8140-4264-97e7-3fc0e509549b",
   "metadata": {},
   "outputs": [],
   "source": [
    "import pandas as pd\n",
    "import statsmodels.formula.api as smf"
   ]
  },
  {
   "cell_type": "code",
   "execution_count": 3,
   "id": "35145f7e-5715-46fd-9209-aaf2abff7919",
   "metadata": {},
   "outputs": [],
   "source": [
    "blood = pd.read_csv(\"data/medicaldata_blood_storage.csv\")"
   ]
  },
  {
   "cell_type": "code",
   "execution_count": 5,
   "id": "4f1b4639-4ff8-4bc0-8f46-2a56b0ed174b",
   "metadata": {},
   "outputs": [
    {
     "data": {
      "text/plain": [
       "0    262\n",
       "1     54\n",
       "Name: Recurrence, dtype: int64"
      ]
     },
     "execution_count": 5,
     "metadata": {},
     "output_type": "execute_result"
    }
   ],
   "source": [
    "blood[\"Recurrence\"].value_counts()"
   ]
  },
  {
   "cell_type": "code",
   "execution_count": 6,
   "id": "2aca3ae0-3ace-4fe2-abd5-d924d5b1aace",
   "metadata": {},
   "outputs": [],
   "source": [
    "model = smf.logit(\"Recurrence ~ Age\", data=blood)"
   ]
  },
  {
   "cell_type": "code",
   "execution_count": 8,
   "id": "2bd59a40-ed2c-4259-965b-27879f35ad1b",
   "metadata": {},
   "outputs": [
    {
     "name": "stdout",
     "output_type": "stream",
     "text": [
      "Optimization terminated successfully.\n",
      "         Current function value: 0.456452\n",
      "         Iterations 6\n"
     ]
    }
   ],
   "source": [
    "results = model.fit()"
   ]
  },
  {
   "cell_type": "code",
   "execution_count": 9,
   "id": "33db7991-363d-4bab-bdad-02a10fbf1437",
   "metadata": {},
   "outputs": [
    {
     "data": {
      "text/html": [
       "<table class=\"simpletable\">\n",
       "<caption>Logit Regression Results</caption>\n",
       "<tr>\n",
       "  <th>Dep. Variable:</th>      <td>Recurrence</td>    <th>  No. Observations:  </th>  <td>   316</td> \n",
       "</tr>\n",
       "<tr>\n",
       "  <th>Model:</th>                 <td>Logit</td>      <th>  Df Residuals:      </th>  <td>   314</td> \n",
       "</tr>\n",
       "<tr>\n",
       "  <th>Method:</th>                 <td>MLE</td>       <th>  Df Model:          </th>  <td>     1</td> \n",
       "</tr>\n",
       "<tr>\n",
       "  <th>Date:</th>            <td>Thu, 23 Sep 2021</td> <th>  Pseudo R-squ.:     </th> <td>0.001828</td>\n",
       "</tr>\n",
       "<tr>\n",
       "  <th>Time:</th>                <td>16:22:59</td>     <th>  Log-Likelihood:    </th> <td> -144.24</td>\n",
       "</tr>\n",
       "<tr>\n",
       "  <th>converged:</th>             <td>True</td>       <th>  LL-Null:           </th> <td> -144.50</td>\n",
       "</tr>\n",
       "<tr>\n",
       "  <th>Covariance Type:</th>     <td>nonrobust</td>    <th>  LLR p-value:       </th>  <td>0.4673</td> \n",
       "</tr>\n",
       "</table>\n",
       "<table class=\"simpletable\">\n",
       "<tr>\n",
       "      <td></td>         <th>coef</th>     <th>std err</th>      <th>z</th>      <th>P>|z|</th>  <th>[0.025</th>    <th>0.975]</th>  \n",
       "</tr>\n",
       "<tr>\n",
       "  <th>Intercept</th> <td>   -2.5107</td> <td>    1.302</td> <td>   -1.928</td> <td> 0.054</td> <td>   -5.062</td> <td>    0.041</td>\n",
       "</tr>\n",
       "<tr>\n",
       "  <th>Age</th>       <td>    0.0152</td> <td>    0.021</td> <td>    0.723</td> <td> 0.470</td> <td>   -0.026</td> <td>    0.056</td>\n",
       "</tr>\n",
       "</table>"
      ],
      "text/plain": [
       "<class 'statsmodels.iolib.summary.Summary'>\n",
       "\"\"\"\n",
       "                           Logit Regression Results                           \n",
       "==============================================================================\n",
       "Dep. Variable:             Recurrence   No. Observations:                  316\n",
       "Model:                          Logit   Df Residuals:                      314\n",
       "Method:                           MLE   Df Model:                            1\n",
       "Date:                Thu, 23 Sep 2021   Pseudo R-squ.:                0.001828\n",
       "Time:                        16:22:59   Log-Likelihood:                -144.24\n",
       "converged:                       True   LL-Null:                       -144.50\n",
       "Covariance Type:            nonrobust   LLR p-value:                    0.4673\n",
       "==============================================================================\n",
       "                 coef    std err          z      P>|z|      [0.025      0.975]\n",
       "------------------------------------------------------------------------------\n",
       "Intercept     -2.5107      1.302     -1.928      0.054      -5.062       0.041\n",
       "Age            0.0152      0.021      0.723      0.470      -0.026       0.056\n",
       "==============================================================================\n",
       "\"\"\""
      ]
     },
     "execution_count": 9,
     "metadata": {},
     "output_type": "execute_result"
    }
   ],
   "source": [
    "results.summary()"
   ]
  },
  {
   "cell_type": "code",
   "execution_count": 10,
   "id": "7b418662-319d-44d9-b1b6-ea1bed91703a",
   "metadata": {},
   "outputs": [
    {
     "data": {
      "text/plain": [
       "Intercept   -2.510677\n",
       "Age          0.015164\n",
       "dtype: float64"
      ]
     },
     "execution_count": 10,
     "metadata": {},
     "output_type": "execute_result"
    }
   ],
   "source": [
    "results.params"
   ]
  },
  {
   "cell_type": "code",
   "execution_count": 11,
   "id": "d4b35b60-f999-4081-a7b7-7c8c432ffeb7",
   "metadata": {},
   "outputs": [],
   "source": [
    "import numpy as np"
   ]
  },
  {
   "cell_type": "code",
   "execution_count": 12,
   "id": "be7576fb-cccf-443e-90c4-7277a8119d55",
   "metadata": {},
   "outputs": [
    {
     "data": {
      "text/plain": [
       "Intercept    0.081213\n",
       "Age          1.015279\n",
       "dtype: float64"
      ]
     },
     "execution_count": 12,
     "metadata": {},
     "output_type": "execute_result"
    }
   ],
   "source": [
    "np.exp(results.params)"
   ]
  },
  {
   "cell_type": "code",
   "execution_count": 13,
   "id": "8c96bc20-1fca-4fc3-b491-00e15ec8ab13",
   "metadata": {},
   "outputs": [
    {
     "name": "stdout",
     "output_type": "stream",
     "text": [
      "Optimization terminated successfully.\n",
      "         Current function value: 0.421375\n",
      "         Iterations 6\n"
     ]
    },
    {
     "data": {
      "text/html": [
       "<table class=\"simpletable\">\n",
       "<caption>Logit Regression Results</caption>\n",
       "<tr>\n",
       "  <th>Dep. Variable:</th>      <td>Recurrence</td>    <th>  No. Observations:  </th>  <td>   305</td>  \n",
       "</tr>\n",
       "<tr>\n",
       "  <th>Model:</th>                 <td>Logit</td>      <th>  Df Residuals:      </th>  <td>   301</td>  \n",
       "</tr>\n",
       "<tr>\n",
       "  <th>Method:</th>                 <td>MLE</td>       <th>  Df Model:          </th>  <td>     3</td>  \n",
       "</tr>\n",
       "<tr>\n",
       "  <th>Date:</th>            <td>Thu, 23 Sep 2021</td> <th>  Pseudo R-squ.:     </th>  <td>0.06660</td> \n",
       "</tr>\n",
       "<tr>\n",
       "  <th>Time:</th>                <td>16:27:08</td>     <th>  Log-Likelihood:    </th> <td> -128.52</td> \n",
       "</tr>\n",
       "<tr>\n",
       "  <th>converged:</th>             <td>True</td>       <th>  LL-Null:           </th> <td> -137.69</td> \n",
       "</tr>\n",
       "<tr>\n",
       "  <th>Covariance Type:</th>     <td>nonrobust</td>    <th>  LLR p-value:       </th> <td>0.0003744</td>\n",
       "</tr>\n",
       "</table>\n",
       "<table class=\"simpletable\">\n",
       "<tr>\n",
       "      <td></td>         <th>coef</th>     <th>std err</th>      <th>z</th>      <th>P>|z|</th>  <th>[0.025</th>    <th>0.975]</th>  \n",
       "</tr>\n",
       "<tr>\n",
       "  <th>Intercept</th> <td>   -3.7564</td> <td>    1.439</td> <td>   -2.611</td> <td> 0.009</td> <td>   -6.576</td> <td>   -0.937</td>\n",
       "</tr>\n",
       "<tr>\n",
       "  <th>Age</th>       <td>    0.0281</td> <td>    0.024</td> <td>    1.194</td> <td> 0.232</td> <td>   -0.018</td> <td>    0.074</td>\n",
       "</tr>\n",
       "<tr>\n",
       "  <th>PVol</th>      <td>   -0.0080</td> <td>    0.006</td> <td>   -1.368</td> <td> 0.171</td> <td>   -0.019</td> <td>    0.003</td>\n",
       "</tr>\n",
       "<tr>\n",
       "  <th>PreopPSA</th>  <td>    0.0952</td> <td>    0.023</td> <td>    4.128</td> <td> 0.000</td> <td>    0.050</td> <td>    0.140</td>\n",
       "</tr>\n",
       "</table>"
      ],
      "text/plain": [
       "<class 'statsmodels.iolib.summary.Summary'>\n",
       "\"\"\"\n",
       "                           Logit Regression Results                           \n",
       "==============================================================================\n",
       "Dep. Variable:             Recurrence   No. Observations:                  305\n",
       "Model:                          Logit   Df Residuals:                      301\n",
       "Method:                           MLE   Df Model:                            3\n",
       "Date:                Thu, 23 Sep 2021   Pseudo R-squ.:                 0.06660\n",
       "Time:                        16:27:08   Log-Likelihood:                -128.52\n",
       "converged:                       True   LL-Null:                       -137.69\n",
       "Covariance Type:            nonrobust   LLR p-value:                 0.0003744\n",
       "==============================================================================\n",
       "                 coef    std err          z      P>|z|      [0.025      0.975]\n",
       "------------------------------------------------------------------------------\n",
       "Intercept     -3.7564      1.439     -2.611      0.009      -6.576      -0.937\n",
       "Age            0.0281      0.024      1.194      0.232      -0.018       0.074\n",
       "PVol          -0.0080      0.006     -1.368      0.171      -0.019       0.003\n",
       "PreopPSA       0.0952      0.023      4.128      0.000       0.050       0.140\n",
       "==============================================================================\n",
       "\"\"\""
      ]
     },
     "execution_count": 13,
     "metadata": {},
     "output_type": "execute_result"
    }
   ],
   "source": [
    "model = smf.logit(\"Recurrence ~ Age + PVol + PreopPSA\", data=blood)\n",
    "results = model.fit()\n",
    "results.summary()"
   ]
  },
  {
   "cell_type": "code",
   "execution_count": 15,
   "id": "4a2d964a-d1bd-4042-b01c-e80c935e4f8c",
   "metadata": {},
   "outputs": [
    {
     "data": {
      "text/plain": [
       "Intercept    0.023368\n",
       "Age          1.028542\n",
       "PVol         0.992061\n",
       "PreopPSA     1.099839\n",
       "dtype: float64"
      ]
     },
     "execution_count": 15,
     "metadata": {},
     "output_type": "execute_result"
    }
   ],
   "source": [
    "np.exp(results.params)"
   ]
  },
  {
   "cell_type": "code",
   "execution_count": 17,
   "id": "19128f34-8b02-4b2b-a9d4-2701e6606ca1",
   "metadata": {},
   "outputs": [
    {
     "name": "stdout",
     "output_type": "stream",
     "text": [
      "Optimization terminated successfully.\n",
      "         Current function value: 0.382324\n",
      "         Iterations 8\n"
     ]
    },
    {
     "data": {
      "text/html": [
       "<table class=\"simpletable\">\n",
       "<caption>Logit Regression Results</caption>\n",
       "<tr>\n",
       "  <th>Dep. Variable:</th>      <td>Recurrence</td>    <th>  No. Observations:  </th>  <td>   300</td>  \n",
       "</tr>\n",
       "<tr>\n",
       "  <th>Model:</th>                 <td>Logit</td>      <th>  Df Residuals:      </th>  <td>   294</td>  \n",
       "</tr>\n",
       "<tr>\n",
       "  <th>Method:</th>                 <td>MLE</td>       <th>  Df Model:          </th>  <td>     5</td>  \n",
       "</tr>\n",
       "<tr>\n",
       "  <th>Date:</th>            <td>Thu, 23 Sep 2021</td> <th>  Pseudo R-squ.:     </th>  <td>0.1411</td>  \n",
       "</tr>\n",
       "<tr>\n",
       "  <th>Time:</th>                <td>16:29:57</td>     <th>  Log-Likelihood:    </th> <td> -114.70</td> \n",
       "</tr>\n",
       "<tr>\n",
       "  <th>converged:</th>             <td>True</td>       <th>  LL-Null:           </th> <td> -133.55</td> \n",
       "</tr>\n",
       "<tr>\n",
       "  <th>Covariance Type:</th>     <td>nonrobust</td>    <th>  LLR p-value:       </th> <td>4.336e-07</td>\n",
       "</tr>\n",
       "</table>\n",
       "<table class=\"simpletable\">\n",
       "<tr>\n",
       "         <td></td>           <th>coef</th>     <th>std err</th>      <th>z</th>      <th>P>|z|</th>  <th>[0.025</th>    <th>0.975]</th>  \n",
       "</tr>\n",
       "<tr>\n",
       "  <th>Intercept</th>      <td>   -6.1399</td> <td>    1.819</td> <td>   -3.375</td> <td> 0.001</td> <td>   -9.706</td> <td>   -2.574</td>\n",
       "</tr>\n",
       "<tr>\n",
       "  <th>C(TVol)[T.2.0]</th> <td>    2.0730</td> <td>    1.061</td> <td>    1.953</td> <td> 0.051</td> <td>   -0.007</td> <td>    4.153</td>\n",
       "</tr>\n",
       "<tr>\n",
       "  <th>C(TVol)[T.3.0]</th> <td>    3.1200</td> <td>    1.065</td> <td>    2.930</td> <td> 0.003</td> <td>    1.033</td> <td>    5.207</td>\n",
       "</tr>\n",
       "<tr>\n",
       "  <th>Age</th>            <td>    0.0265</td> <td>    0.025</td> <td>    1.082</td> <td> 0.279</td> <td>   -0.022</td> <td>    0.075</td>\n",
       "</tr>\n",
       "<tr>\n",
       "  <th>PVol</th>           <td>-9.982e-06</td> <td>    0.006</td> <td>   -0.002</td> <td> 0.999</td> <td>   -0.013</td> <td>    0.013</td>\n",
       "</tr>\n",
       "<tr>\n",
       "  <th>PreopPSA</th>       <td>    0.0586</td> <td>    0.024</td> <td>    2.422</td> <td> 0.015</td> <td>    0.011</td> <td>    0.106</td>\n",
       "</tr>\n",
       "</table>"
      ],
      "text/plain": [
       "<class 'statsmodels.iolib.summary.Summary'>\n",
       "\"\"\"\n",
       "                           Logit Regression Results                           \n",
       "==============================================================================\n",
       "Dep. Variable:             Recurrence   No. Observations:                  300\n",
       "Model:                          Logit   Df Residuals:                      294\n",
       "Method:                           MLE   Df Model:                            5\n",
       "Date:                Thu, 23 Sep 2021   Pseudo R-squ.:                  0.1411\n",
       "Time:                        16:29:57   Log-Likelihood:                -114.70\n",
       "converged:                       True   LL-Null:                       -133.55\n",
       "Covariance Type:            nonrobust   LLR p-value:                 4.336e-07\n",
       "==================================================================================\n",
       "                     coef    std err          z      P>|z|      [0.025      0.975]\n",
       "----------------------------------------------------------------------------------\n",
       "Intercept         -6.1399      1.819     -3.375      0.001      -9.706      -2.574\n",
       "C(TVol)[T.2.0]     2.0730      1.061      1.953      0.051      -0.007       4.153\n",
       "C(TVol)[T.3.0]     3.1200      1.065      2.930      0.003       1.033       5.207\n",
       "Age                0.0265      0.025      1.082      0.279      -0.022       0.075\n",
       "PVol           -9.982e-06      0.006     -0.002      0.999      -0.013       0.013\n",
       "PreopPSA           0.0586      0.024      2.422      0.015       0.011       0.106\n",
       "==================================================================================\n",
       "\"\"\""
      ]
     },
     "execution_count": 17,
     "metadata": {},
     "output_type": "execute_result"
    }
   ],
   "source": [
    "model = smf.logit(\"Recurrence ~ Age + PVol + PreopPSA + C(TVol)\", data=blood)\n",
    "results = model.fit()\n",
    "results.summary()"
   ]
  },
  {
   "cell_type": "code",
   "execution_count": 18,
   "id": "42322669-e323-4f66-be97-2a81461b795c",
   "metadata": {},
   "outputs": [
    {
     "data": {
      "text/plain": [
       "Intercept          0.002155\n",
       "C(TVol)[T.2.0]     7.948254\n",
       "C(TVol)[T.3.0]    22.647154\n",
       "Age                1.026896\n",
       "PVol               0.999990\n",
       "PreopPSA           1.060348\n",
       "dtype: float64"
      ]
     },
     "execution_count": 18,
     "metadata": {},
     "output_type": "execute_result"
    }
   ],
   "source": [
    "np.exp(results.params)"
   ]
  },
  {
   "cell_type": "code",
   "execution_count": 19,
   "id": "9b6d2003-b2b6-4a10-9489-ca225c2ccc97",
   "metadata": {},
   "outputs": [],
   "source": [
    "from sklearn.linear_model import LogisticRegression"
   ]
  },
  {
   "cell_type": "code",
   "execution_count": 20,
   "id": "e6352e55-c25a-4fa6-9db0-b539c10e9dd5",
   "metadata": {},
   "outputs": [],
   "source": [
    "from sklearn.model_selection import train_test_split"
   ]
  },
  {
   "cell_type": "code",
   "execution_count": 21,
   "id": "e98f2a74-fdff-4b50-b5a9-9964ef06746e",
   "metadata": {},
   "outputs": [
    {
     "name": "stdout",
     "output_type": "stream",
     "text": [
      "<class 'pandas.core.frame.DataFrame'>\n",
      "RangeIndex: 316 entries, 0 to 315\n",
      "Data columns (total 20 columns):\n",
      " #   Column            Non-Null Count  Dtype  \n",
      "---  ------            --------------  -----  \n",
      " 0   RBC.Age.Group     316 non-null    int64  \n",
      " 1   Median.RBC.Age    316 non-null    int64  \n",
      " 2   Age               316 non-null    float64\n",
      " 3   AA                316 non-null    int64  \n",
      " 4   FamHx             316 non-null    int64  \n",
      " 5   PVol              307 non-null    float64\n",
      " 6   TVol              310 non-null    float64\n",
      " 7   T.Stage           303 non-null    float64\n",
      " 8   bGS               314 non-null    float64\n",
      " 9   BN+               316 non-null    int64  \n",
      " 10  OrganConfined     316 non-null    int64  \n",
      " 11  PreopPSA          313 non-null    float64\n",
      " 12  PreopTherapy      316 non-null    int64  \n",
      " 13  Units             316 non-null    int64  \n",
      " 14  sGS               316 non-null    int64  \n",
      " 15  AnyAdjTherapy     316 non-null    int64  \n",
      " 16  AdjRadTherapy     316 non-null    int64  \n",
      " 17  Recurrence        316 non-null    int64  \n",
      " 18  Censor            316 non-null    int64  \n",
      " 19  TimeToRecurrence  315 non-null    float64\n",
      "dtypes: float64(7), int64(13)\n",
      "memory usage: 49.5 KB\n"
     ]
    }
   ],
   "source": [
    "blood.info()"
   ]
  },
  {
   "cell_type": "code",
   "execution_count": 22,
   "id": "7b8efb0c-5eca-4539-8dde-d1728cb7f8d9",
   "metadata": {},
   "outputs": [],
   "source": [
    "blood_subset = blood[[\"Recurrence\", \"Age\", \"PVol\", \"PreopPSA\", \"TVol\"]]"
   ]
  },
  {
   "cell_type": "code",
   "execution_count": 25,
   "id": "db03f932-bfc1-47be-bf8d-e6345e60bf8c",
   "metadata": {},
   "outputs": [
    {
     "name": "stderr",
     "output_type": "stream",
     "text": [
      "C:\\Users\\Danie\\AppData\\Local\\Temp/ipykernel_13756/3201716192.py:1: SettingWithCopyWarning: \n",
      "A value is trying to be set on a copy of a slice from a DataFrame.\n",
      "Try using .loc[row_indexer,col_indexer] = value instead\n",
      "\n",
      "See the caveats in the documentation: https://pandas.pydata.org/pandas-docs/stable/user_guide/indexing.html#returning-a-view-versus-a-copy\n",
      "  blood_subset[\"TVol\"] = blood_subset[\"TVol\"].astype(\"category\")\n"
     ]
    }
   ],
   "source": [
    "blood_subset[\"TVol\"] = blood_subset[\"TVol\"].astype(\"category\")"
   ]
  },
  {
   "cell_type": "code",
   "execution_count": 26,
   "id": "69c18622-d81f-4040-956f-8792ae1fce64",
   "metadata": {},
   "outputs": [
    {
     "name": "stdout",
     "output_type": "stream",
     "text": [
      "<class 'pandas.core.frame.DataFrame'>\n",
      "RangeIndex: 316 entries, 0 to 315\n",
      "Data columns (total 5 columns):\n",
      " #   Column      Non-Null Count  Dtype   \n",
      "---  ------      --------------  -----   \n",
      " 0   Recurrence  316 non-null    int64   \n",
      " 1   Age         316 non-null    float64 \n",
      " 2   PVol        307 non-null    float64 \n",
      " 3   PreopPSA    313 non-null    float64 \n",
      " 4   TVol        310 non-null    category\n",
      "dtypes: category(1), float64(3), int64(1)\n",
      "memory usage: 10.4 KB\n"
     ]
    }
   ],
   "source": [
    "blood_subset.info()"
   ]
  },
  {
   "cell_type": "code",
   "execution_count": 28,
   "id": "8fb9c7cf-110f-45fa-a4fd-f1d99580283e",
   "metadata": {},
   "outputs": [
    {
     "data": {
      "text/html": [
       "<div>\n",
       "<style scoped>\n",
       "    .dataframe tbody tr th:only-of-type {\n",
       "        vertical-align: middle;\n",
       "    }\n",
       "\n",
       "    .dataframe tbody tr th {\n",
       "        vertical-align: top;\n",
       "    }\n",
       "\n",
       "    .dataframe thead th {\n",
       "        text-align: right;\n",
       "    }\n",
       "</style>\n",
       "<table border=\"1\" class=\"dataframe\">\n",
       "  <thead>\n",
       "    <tr style=\"text-align: right;\">\n",
       "      <th></th>\n",
       "      <th>Recurrence</th>\n",
       "      <th>Age</th>\n",
       "      <th>PVol</th>\n",
       "      <th>PreopPSA</th>\n",
       "      <th>TVol_1.0</th>\n",
       "      <th>TVol_2.0</th>\n",
       "      <th>TVol_3.0</th>\n",
       "    </tr>\n",
       "  </thead>\n",
       "  <tbody>\n",
       "    <tr>\n",
       "      <th>0</th>\n",
       "      <td>1</td>\n",
       "      <td>72.1</td>\n",
       "      <td>54.0</td>\n",
       "      <td>14.08</td>\n",
       "      <td>0</td>\n",
       "      <td>0</td>\n",
       "      <td>1</td>\n",
       "    </tr>\n",
       "    <tr>\n",
       "      <th>1</th>\n",
       "      <td>1</td>\n",
       "      <td>73.6</td>\n",
       "      <td>43.2</td>\n",
       "      <td>10.50</td>\n",
       "      <td>0</td>\n",
       "      <td>0</td>\n",
       "      <td>1</td>\n",
       "    </tr>\n",
       "    <tr>\n",
       "      <th>2</th>\n",
       "      <td>0</td>\n",
       "      <td>67.5</td>\n",
       "      <td>102.7</td>\n",
       "      <td>6.98</td>\n",
       "      <td>1</td>\n",
       "      <td>0</td>\n",
       "      <td>0</td>\n",
       "    </tr>\n",
       "    <tr>\n",
       "      <th>3</th>\n",
       "      <td>0</td>\n",
       "      <td>65.8</td>\n",
       "      <td>46.0</td>\n",
       "      <td>4.40</td>\n",
       "      <td>1</td>\n",
       "      <td>0</td>\n",
       "      <td>0</td>\n",
       "    </tr>\n",
       "    <tr>\n",
       "      <th>4</th>\n",
       "      <td>0</td>\n",
       "      <td>63.2</td>\n",
       "      <td>60.0</td>\n",
       "      <td>21.40</td>\n",
       "      <td>0</td>\n",
       "      <td>1</td>\n",
       "      <td>0</td>\n",
       "    </tr>\n",
       "    <tr>\n",
       "      <th>...</th>\n",
       "      <td>...</td>\n",
       "      <td>...</td>\n",
       "      <td>...</td>\n",
       "      <td>...</td>\n",
       "      <td>...</td>\n",
       "      <td>...</td>\n",
       "      <td>...</td>\n",
       "    </tr>\n",
       "    <tr>\n",
       "      <th>311</th>\n",
       "      <td>0</td>\n",
       "      <td>54.8</td>\n",
       "      <td>25.6</td>\n",
       "      <td>5.00</td>\n",
       "      <td>0</td>\n",
       "      <td>1</td>\n",
       "      <td>0</td>\n",
       "    </tr>\n",
       "    <tr>\n",
       "      <th>312</th>\n",
       "      <td>0</td>\n",
       "      <td>62.3</td>\n",
       "      <td>42.3</td>\n",
       "      <td>7.60</td>\n",
       "      <td>0</td>\n",
       "      <td>1</td>\n",
       "      <td>0</td>\n",
       "    </tr>\n",
       "    <tr>\n",
       "      <th>313</th>\n",
       "      <td>1</td>\n",
       "      <td>62.4</td>\n",
       "      <td>50.0</td>\n",
       "      <td>9.30</td>\n",
       "      <td>0</td>\n",
       "      <td>1</td>\n",
       "      <td>0</td>\n",
       "    </tr>\n",
       "    <tr>\n",
       "      <th>314</th>\n",
       "      <td>0</td>\n",
       "      <td>57.6</td>\n",
       "      <td>74.9</td>\n",
       "      <td>4.50</td>\n",
       "      <td>1</td>\n",
       "      <td>0</td>\n",
       "      <td>0</td>\n",
       "    </tr>\n",
       "    <tr>\n",
       "      <th>315</th>\n",
       "      <td>0</td>\n",
       "      <td>59.9</td>\n",
       "      <td>54.1</td>\n",
       "      <td>6.80</td>\n",
       "      <td>0</td>\n",
       "      <td>0</td>\n",
       "      <td>1</td>\n",
       "    </tr>\n",
       "  </tbody>\n",
       "</table>\n",
       "<p>316 rows × 7 columns</p>\n",
       "</div>"
      ],
      "text/plain": [
       "     Recurrence   Age   PVol  PreopPSA  TVol_1.0  TVol_2.0  TVol_3.0\n",
       "0             1  72.1   54.0     14.08         0         0         1\n",
       "1             1  73.6   43.2     10.50         0         0         1\n",
       "2             0  67.5  102.7      6.98         1         0         0\n",
       "3             0  65.8   46.0      4.40         1         0         0\n",
       "4             0  63.2   60.0     21.40         0         1         0\n",
       "..          ...   ...    ...       ...       ...       ...       ...\n",
       "311           0  54.8   25.6      5.00         0         1         0\n",
       "312           0  62.3   42.3      7.60         0         1         0\n",
       "313           1  62.4   50.0      9.30         0         1         0\n",
       "314           0  57.6   74.9      4.50         1         0         0\n",
       "315           0  59.9   54.1      6.80         0         0         1\n",
       "\n",
       "[316 rows x 7 columns]"
      ]
     },
     "execution_count": 28,
     "metadata": {},
     "output_type": "execute_result"
    }
   ],
   "source": [
    "pd.get_dummies(blood_subset)"
   ]
  },
  {
   "cell_type": "code",
   "execution_count": 50,
   "id": "dd1050c2-abd6-435c-bdd8-9a48e97a2aa3",
   "metadata": {},
   "outputs": [],
   "source": [
    "blood_sub_dummy = pd.get_dummies(blood_subset, drop_first=True)\n",
    "blood_sub_dummy = blood_sub_dummy.dropna()"
   ]
  },
  {
   "cell_type": "code",
   "execution_count": 51,
   "id": "9e1338f0-8ecf-407f-bd17-67f71e9e971a",
   "metadata": {},
   "outputs": [
    {
     "data": {
      "text/plain": [
       "0      1\n",
       "1      1\n",
       "2      0\n",
       "3      0\n",
       "4      0\n",
       "      ..\n",
       "311    0\n",
       "312    0\n",
       "313    1\n",
       "314    0\n",
       "315    0\n",
       "Name: Recurrence, Length: 305, dtype: int64"
      ]
     },
     "execution_count": 51,
     "metadata": {},
     "output_type": "execute_result"
    }
   ],
   "source": [
    "response = blood_sub_dummy[\"Recurrence\"]\n",
    "response"
   ]
  },
  {
   "cell_type": "code",
   "execution_count": 52,
   "id": "a0e9139d-8705-4d26-a003-7e3fa0b113ac",
   "metadata": {},
   "outputs": [
    {
     "data": {
      "text/html": [
       "<div>\n",
       "<style scoped>\n",
       "    .dataframe tbody tr th:only-of-type {\n",
       "        vertical-align: middle;\n",
       "    }\n",
       "\n",
       "    .dataframe tbody tr th {\n",
       "        vertical-align: top;\n",
       "    }\n",
       "\n",
       "    .dataframe thead th {\n",
       "        text-align: right;\n",
       "    }\n",
       "</style>\n",
       "<table border=\"1\" class=\"dataframe\">\n",
       "  <thead>\n",
       "    <tr style=\"text-align: right;\">\n",
       "      <th></th>\n",
       "      <th>Age</th>\n",
       "      <th>PVol</th>\n",
       "      <th>PreopPSA</th>\n",
       "      <th>TVol_2.0</th>\n",
       "      <th>TVol_3.0</th>\n",
       "    </tr>\n",
       "  </thead>\n",
       "  <tbody>\n",
       "    <tr>\n",
       "      <th>0</th>\n",
       "      <td>72.1</td>\n",
       "      <td>54.0</td>\n",
       "      <td>14.08</td>\n",
       "      <td>0</td>\n",
       "      <td>1</td>\n",
       "    </tr>\n",
       "    <tr>\n",
       "      <th>1</th>\n",
       "      <td>73.6</td>\n",
       "      <td>43.2</td>\n",
       "      <td>10.50</td>\n",
       "      <td>0</td>\n",
       "      <td>1</td>\n",
       "    </tr>\n",
       "    <tr>\n",
       "      <th>2</th>\n",
       "      <td>67.5</td>\n",
       "      <td>102.7</td>\n",
       "      <td>6.98</td>\n",
       "      <td>0</td>\n",
       "      <td>0</td>\n",
       "    </tr>\n",
       "    <tr>\n",
       "      <th>3</th>\n",
       "      <td>65.8</td>\n",
       "      <td>46.0</td>\n",
       "      <td>4.40</td>\n",
       "      <td>0</td>\n",
       "      <td>0</td>\n",
       "    </tr>\n",
       "    <tr>\n",
       "      <th>4</th>\n",
       "      <td>63.2</td>\n",
       "      <td>60.0</td>\n",
       "      <td>21.40</td>\n",
       "      <td>1</td>\n",
       "      <td>0</td>\n",
       "    </tr>\n",
       "    <tr>\n",
       "      <th>...</th>\n",
       "      <td>...</td>\n",
       "      <td>...</td>\n",
       "      <td>...</td>\n",
       "      <td>...</td>\n",
       "      <td>...</td>\n",
       "    </tr>\n",
       "    <tr>\n",
       "      <th>311</th>\n",
       "      <td>54.8</td>\n",
       "      <td>25.6</td>\n",
       "      <td>5.00</td>\n",
       "      <td>1</td>\n",
       "      <td>0</td>\n",
       "    </tr>\n",
       "    <tr>\n",
       "      <th>312</th>\n",
       "      <td>62.3</td>\n",
       "      <td>42.3</td>\n",
       "      <td>7.60</td>\n",
       "      <td>1</td>\n",
       "      <td>0</td>\n",
       "    </tr>\n",
       "    <tr>\n",
       "      <th>313</th>\n",
       "      <td>62.4</td>\n",
       "      <td>50.0</td>\n",
       "      <td>9.30</td>\n",
       "      <td>1</td>\n",
       "      <td>0</td>\n",
       "    </tr>\n",
       "    <tr>\n",
       "      <th>314</th>\n",
       "      <td>57.6</td>\n",
       "      <td>74.9</td>\n",
       "      <td>4.50</td>\n",
       "      <td>0</td>\n",
       "      <td>0</td>\n",
       "    </tr>\n",
       "    <tr>\n",
       "      <th>315</th>\n",
       "      <td>59.9</td>\n",
       "      <td>54.1</td>\n",
       "      <td>6.80</td>\n",
       "      <td>0</td>\n",
       "      <td>1</td>\n",
       "    </tr>\n",
       "  </tbody>\n",
       "</table>\n",
       "<p>305 rows × 5 columns</p>\n",
       "</div>"
      ],
      "text/plain": [
       "      Age   PVol  PreopPSA  TVol_2.0  TVol_3.0\n",
       "0    72.1   54.0     14.08         0         1\n",
       "1    73.6   43.2     10.50         0         1\n",
       "2    67.5  102.7      6.98         0         0\n",
       "3    65.8   46.0      4.40         0         0\n",
       "4    63.2   60.0     21.40         1         0\n",
       "..    ...    ...       ...       ...       ...\n",
       "311  54.8   25.6      5.00         1         0\n",
       "312  62.3   42.3      7.60         1         0\n",
       "313  62.4   50.0      9.30         1         0\n",
       "314  57.6   74.9      4.50         0         0\n",
       "315  59.9   54.1      6.80         0         1\n",
       "\n",
       "[305 rows x 5 columns]"
      ]
     },
     "execution_count": 52,
     "metadata": {},
     "output_type": "execute_result"
    }
   ],
   "source": [
    "predictors = blood_sub_dummy.iloc[:, 1:]\n",
    "predictors"
   ]
  },
  {
   "cell_type": "code",
   "execution_count": 57,
   "id": "81db4b10-0276-4200-a79c-57d22da79a19",
   "metadata": {},
   "outputs": [],
   "source": [
    "X_train, X_test, y_train, y_test = train_test_split(predictors, response)"
   ]
  },
  {
   "cell_type": "code",
   "execution_count": 58,
   "id": "6a18262b-cba5-47ab-9f4b-4916e1d70694",
   "metadata": {},
   "outputs": [],
   "source": [
    "from sklearn.linear_model import LogisticRegression"
   ]
  },
  {
   "cell_type": "code",
   "execution_count": 83,
   "id": "48b21e18-0087-4a87-a19d-b1a4c4bff550",
   "metadata": {},
   "outputs": [],
   "source": [
    "model = LogisticRegression(penalty=\"none\")"
   ]
  },
  {
   "cell_type": "code",
   "execution_count": 84,
   "id": "24660e65-7121-4f7c-b6bb-d05687da286a",
   "metadata": {},
   "outputs": [
    {
     "data": {
      "text/plain": [
       "LogisticRegression(penalty='none')"
      ]
     },
     "execution_count": 84,
     "metadata": {},
     "output_type": "execute_result"
    }
   ],
   "source": [
    "model.fit(X_train, y_train)"
   ]
  },
  {
   "cell_type": "code",
   "execution_count": 85,
   "id": "a583d9cf-eef0-40da-81f6-128796701ddf",
   "metadata": {},
   "outputs": [
    {
     "data": {
      "text/plain": [
       "array([[ 0.03498819, -0.0201158 ,  0.07500502,  0.83120946,  1.7086887 ]])"
      ]
     },
     "execution_count": 85,
     "metadata": {},
     "output_type": "execute_result"
    }
   ],
   "source": [
    "model.coef_"
   ]
  },
  {
   "cell_type": "code",
   "execution_count": 86,
   "id": "61e872a4-b316-45d4-b37a-c22ff3d3f24f",
   "metadata": {},
   "outputs": [
    {
     "data": {
      "text/plain": [
       "array([-4.54673264])"
      ]
     },
     "execution_count": 86,
     "metadata": {},
     "output_type": "execute_result"
    }
   ],
   "source": [
    "model.intercept_"
   ]
  },
  {
   "cell_type": "code",
   "execution_count": 87,
   "id": "2e4a6f1d-1a47-4d5b-a10f-6af79f5fd215",
   "metadata": {},
   "outputs": [
    {
     "data": {
      "text/plain": [
       "array([[1.03560748, 0.98008517, 1.07788957, 2.29609411, 5.52171612]])"
      ]
     },
     "execution_count": 87,
     "metadata": {},
     "output_type": "execute_result"
    }
   ],
   "source": [
    "np.exp(model.coef_)"
   ]
  },
  {
   "cell_type": "code",
   "execution_count": 80,
   "id": "2f1b85c4-ae11-4fc3-bbee-97e861c5f168",
   "metadata": {},
   "outputs": [
    {
     "data": {
      "text/plain": [
       "array([0, 0, 0, 0, 0, 0, 0, 0, 0, 0, 0, 0, 0, 0, 0, 0, 0, 0, 0, 1, 0, 0,\n",
       "       0, 0, 0, 0, 0, 0, 0, 0, 0, 0, 0, 0, 0, 0, 0, 0, 0, 0, 0, 0, 0, 0,\n",
       "       0, 0, 0, 0, 0, 0, 0, 0, 0, 0, 0, 0, 0, 0, 0, 0, 0, 0, 0, 0, 0, 0,\n",
       "       0, 0, 0, 0, 0, 0, 0, 0, 0, 0, 0], dtype=int64)"
      ]
     },
     "execution_count": 80,
     "metadata": {},
     "output_type": "execute_result"
    }
   ],
   "source": [
    "model.predict(X_test)"
   ]
  },
  {
   "cell_type": "code",
   "execution_count": 81,
   "id": "1ba287a6-7d0d-4370-be2e-26821eff342d",
   "metadata": {},
   "outputs": [
    {
     "data": {
      "text/plain": [
       "0    62\n",
       "1    15\n",
       "Name: Recurrence, dtype: int64"
      ]
     },
     "execution_count": 81,
     "metadata": {},
     "output_type": "execute_result"
    }
   ],
   "source": [
    "y_test.value_counts()"
   ]
  },
  {
   "cell_type": "code",
   "execution_count": 82,
   "id": "bc999320-d122-48f2-9796-13294db487e6",
   "metadata": {},
   "outputs": [
    {
     "data": {
      "text/plain": [
       "0.7922077922077922"
      ]
     },
     "execution_count": 82,
     "metadata": {},
     "output_type": "execute_result"
    }
   ],
   "source": [
    "model.score(X_test, y_test)"
   ]
  },
  {
   "cell_type": "code",
   "execution_count": null,
   "id": "d3786531-7ec8-47b3-887e-5b709cf1142c",
   "metadata": {},
   "outputs": [],
   "source": []
  }
 ],
 "metadata": {
  "kernelspec": {
   "display_name": "Python 3 (ipykernel)",
   "language": "python",
   "name": "python3"
  },
  "language_info": {
   "codemirror_mode": {
    "name": "ipython",
    "version": 3
   },
   "file_extension": ".py",
   "mimetype": "text/x-python",
   "name": "python",
   "nbconvert_exporter": "python",
   "pygments_lexer": "ipython3",
   "version": "3.9.7"
  }
 },
 "nbformat": 4,
 "nbformat_minor": 5
}
